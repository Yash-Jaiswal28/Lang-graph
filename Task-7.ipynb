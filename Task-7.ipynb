{
 "cells": [
  {
   "cell_type": "code",
   "execution_count": 1,
   "metadata": {},
   "outputs": [],
   "source": [
    "import getpass\n",
    "import os\n",
    "\n",
    "def _set_env(var: str):\n",
    "    if not os.environ.get(var):\n",
    "        os.environ[var] = getpass.getpass(f\"{var}: \")"
   ]
  },
  {
   "cell_type": "code",
   "execution_count": 2,
   "metadata": {},
   "outputs": [],
   "source": [
    "_set_env(\"TAVILY_API_KEY\")"
   ]
  },
  {
   "cell_type": "code",
   "execution_count": 3,
   "metadata": {},
   "outputs": [],
   "source": [
    "_set_env(\"ANTHROPIC_API_KEY\")"
   ]
  },
  {
   "cell_type": "code",
   "execution_count": 5,
   "metadata": {},
   "outputs": [],
   "source": [
    "from typing import Annotated, Literal\n",
    "\n",
    "from langchain_anthropic import ChatAnthropic\n",
    "from langchain_community.tools.tavily_search import TavilySearchResults\n",
    "from langchain_core.messages import AIMessage, ToolMessage\n",
    "from langchain_core.pydantic_v1 import BaseModel\n",
    "from typing_extensions import TypedDict\n",
    "\n",
    "from langgraph.checkpoint.memory import MemorySaver\n",
    "from langgraph.graph import StateGraph, START\n",
    "from langgraph.graph.message import add_messages\n",
    "from langgraph.prebuilt import ToolNode, tools_condition\n",
    "\n",
    "\n",
    "class State(TypedDict):\n",
    "    messages: Annotated[list, add_messages]\n",
    "    # This flag is new\n",
    "    ask_human: bool\n",
    "\n",
    "\n",
    "class RequestAssistance(BaseModel):\n",
    "    \"\"\"Escalate the conversation to an expert. Use this if you are unable to assist directly or if the user requires support beyond your permissions.\n",
    "\n",
    "    To use this function, relay the user's 'request' so the expert can provide the right guidance.\n",
    "    \"\"\"\n",
    "\n",
    "    request: str\n",
    "\n",
    "\n",
    "tool = TavilySearchResults(max_results=2)\n",
    "tools = [tool]\n",
    "llm = ChatAnthropic(model=\"claude-3-haiku-20240307\")\n",
    "# We can bind the llm to a tool definition, a pydantic model, or a json schema\n",
    "llm_with_tools = llm.bind_tools(tools + [RequestAssistance])\n",
    "\n",
    "\n",
    "def chatbot(state: State):\n",
    "    response = llm_with_tools.invoke(state[\"messages\"])\n",
    "    ask_human = False\n",
    "    if (\n",
    "        response.tool_calls\n",
    "        and response.tool_calls[0][\"name\"] == RequestAssistance.__name__\n",
    "    ):\n",
    "        ask_human = True\n",
    "    return {\"messages\": [response], \"ask_human\": ask_human}\n",
    "\n",
    "\n",
    "graph_builder = StateGraph(State)\n",
    "\n",
    "graph_builder.add_node(\"chatbot\", chatbot)\n",
    "graph_builder.add_node(\"tools\", ToolNode(tools=[tool]))\n",
    "\n",
    "\n",
    "def create_response(response: str, ai_message: AIMessage):\n",
    "    return ToolMessage(\n",
    "        content=response,\n",
    "        tool_call_id=ai_message.tool_calls[0][\"id\"],\n",
    "    )\n",
    "\n",
    "\n",
    "def human_node(state: State):\n",
    "    new_messages = []\n",
    "    if not isinstance(state[\"messages\"][-1], ToolMessage):\n",
    "        # Typically, the user will have updated the state during the interrupt.\n",
    "        # If they choose not to, we will include a placeholder ToolMessage to\n",
    "        # let the LLM continue.\n",
    "        new_messages.append(\n",
    "            create_response(\"No response from human.\", state[\"messages\"][-1])\n",
    "        )\n",
    "    return {\n",
    "        # Append the new messages\n",
    "        \"messages\": new_messages,\n",
    "        # Unset the flag\n",
    "        \"ask_human\": False,\n",
    "    }\n",
    "\n",
    "\n",
    "graph_builder.add_node(\"human\", human_node)\n",
    "\n",
    "\n",
    "def select_next_node(state: State) -> Literal[\"human\", \"tools\", \"__end__\"]:\n",
    "    if state[\"ask_human\"]:\n",
    "        return \"human\"\n",
    "    # Otherwise, we can route as before\n",
    "    return tools_condition(state)\n",
    "\n",
    "\n",
    "graph_builder.add_conditional_edges(\n",
    "    \"chatbot\",\n",
    "    select_next_node,\n",
    "    {\"human\": \"human\", \"tools\": \"tools\", \"__end__\": \"__end__\"},\n",
    ")\n",
    "graph_builder.add_edge(\"tools\", \"chatbot\")\n",
    "graph_builder.add_edge(\"human\", \"chatbot\")\n",
    "graph_builder.add_edge(START, \"chatbot\")\n",
    "memory = MemorySaver()\n",
    "graph = graph_builder.compile(\n",
    "    checkpointer=memory,\n",
    "    interrupt_before=[\"human\"],\n",
    ")"
   ]
  },
  {
   "cell_type": "code",
   "execution_count": 6,
   "metadata": {},
   "outputs": [
    {
     "data": {
      "text/plain": [
       "AIMessage(content='Om Namah Shivaya is a popular Hindu mantra and prayer that translates to \"I bow to Shiva\". It is a sacred expression of reverence and devotion to the Hindu deity Lord Shiva, who is seen as the supreme god in Hindu philosophy and mythology.\\n\\nThe mantra is considered extremely powerful and is chanted by Hindus for various purposes, such as:\\n\\n1. Spiritual enlightenment and self-realization.\\n2. Purification of the mind and body.\\n3. Invoking the blessings and grace of Lord Shiva.\\n4. Gaining inner peace, strength, and clarity.\\n5. Overcoming obstacles and challenges in life.\\n\\nChanting Om Namah Shivaya is believed to connect the individual to the divine energy and consciousness of Lord Shiva, which is seen as the source of all creation, preservation, and transformation in the universe. The mantra is often repeated as part of Shiva-related spiritual practices, meditation, and rituals.', response_metadata={'id': 'msg_011v3auymqdMkpuAjJGutWA4', 'model': 'claude-3-haiku-20240307', 'stop_reason': 'end_turn', 'stop_sequence': None, 'usage': {'input_tokens': 13, 'output_tokens': 225}}, id='run-a0b78d1b-0dad-4aae-8bd8-6515bcfe3e46-0', usage_metadata={'input_tokens': 13, 'output_tokens': 225, 'total_tokens': 238})"
      ]
     },
     "execution_count": 6,
     "metadata": {},
     "output_type": "execute_result"
    }
   ],
   "source": [
    "llm.invoke(\"Om namah shivay\")"
   ]
  },
  {
   "cell_type": "code",
   "execution_count": 7,
   "metadata": {},
   "outputs": [
    {
     "data": {
      "image/jpeg": "[encoded data removed]",
      "text/plain": [
       "<IPython.core.display.Image object>"
      ]
     },
     "metadata": {},
     "output_type": "display_data"
    }
   ],
   "source": [
    "from IPython.display import Image, display\n",
    "\n",
    "try:\n",
    "    display(Image(graph.get_graph().draw_mermaid_png()))\n",
    "except Exception:\n",
    "    # This requires some extra dependencies and is optional\n",
    "    pass"
   ]
  },
  {
   "cell_type": "code",
   "execution_count": 8,
   "metadata": {},
   "outputs": [
    {
     "name": "stdout",
     "output_type": "stream",
     "text": [
      "================================\u001b[1m Human Message \u001b[0m=================================\n",
      "\n",
      "I'm learning LangGraph. Could you do some research on it for me?\n",
      "==================================\u001b[1m Ai Message \u001b[0m==================================\n",
      "\n",
      "[{'text': \"Okay, let's look into LangGraph for you. Here is a search for information on LangGraph:\", 'type': 'text'}, {'id': 'toolu_0195AFYRWH3NebYKGXuSKcDJ', 'input': {'query': 'LangGraph'}, 'name': 'tavily_search_results_json', 'type': 'tool_use'}]\n",
      "Tool Calls:\n",
      "  tavily_search_results_json (toolu_0195AFYRWH3NebYKGXuSKcDJ)\n",
      " Call ID: toolu_0195AFYRWH3NebYKGXuSKcDJ\n",
      "  Args:\n",
      "    query: LangGraph\n",
      "=================================\u001b[1m Tool Message \u001b[0m=================================\n",
      "Name: tavily_search_results_json\n",
      "\n",
      "[{\"url\": \"https://ithelp.ithome.com.tw/articles/10347147\", \"content\": \"LangGraph \\u4e32\\u6d41\\u61c9\\u7528\\uff1a\\u63a2\\u7d22\\u9ad8\\u6548\\u7684\\u8cc7\\u6599\\u8655\\u7406\\u65b9\\u6848. \\u5728\\u73fe\\u4ee3\\u8cc7\\u6599\\u8655\\u7406\\u548c\\u4eba\\u5de5\\u667a\\u6167\\u61c9\\u7528\\u4e2d\\uff0c\\u4e32\\u6d41\\uff08Streaming\\uff09\\u6280\\u8853\\u626e\\u6f14\\u8457\\u8d8a\\u4f86\\u8d8a\\u91cd\\u8981\\u7684\\u89d2\\u8272\\u3002\\u5b83\\u80fd\\u5920\\u5be6\\u6642\\u8655\\u7406\\u5927\\u91cf\\u8cc7\\u8a0a\\uff0c\\u63d0\\u9ad8\\u7cfb\\u7d71\\u7684\\u97ff\\u61c9\\u901f\\u5ea6\\u548c\\u6548\\u7387\\u3002\\u672c\\u5c0f\\u7bc0\\u5c07\\u6df1\\u5165\\u63a2\\u8a0e LangGraph \\u63d0\\u4f9b\\u7684\\u4e32\\u6d41\\u529f\\u80fd\\uff0c\\u70ba\\u60a8\\u63ed\\u793a\\u5176\\u5f37\\u5927\\u7684\\u61c9\\u7528\\u6f5b\\u529b\\u3002 1.\"}, {\"url\": \"https://qiita.com/isanakamishiro2/items/2be66f609de58cf0531c\", \"content\": \"LangGraph\\u30b5\\u30dd\\u30fc\\u30c8 - LangChain\\u7d71\\u5408\\u3092\\u62e1\\u5f35\\u3057\\u3001\\u30a8\\u30fc\\u30b8\\u30a7\\u30f3\\u30c8\\u30d5\\u30ec\\u30fc\\u30e0\\u30ef\\u30fc\\u30afLangGraph\\u3092\\u30b5\\u30dd\\u30fc\\u30c8\\u3057\\u307e\\u3057\\u305f\\u3002\\u30c8\\u30ec\\u30fc\\u30b9\\u3068\\u30b3\\u30fc\\u30c9\\u304b\\u3089\\u306e\\u30e2\\u30c7\\u30eb\\u6a5f\\u80fd\\u3092\\u4f7f\\u7528\\u3057\\u305f\\u30ed\\u30b0\\u8a18\\u9332\\u306e\\u30b5\\u30dd\\u30fc\\u30c8\\u306b\\u3088\\u308a\\u3001\\u30a8\\u30fc\\u30b8\\u30a7\\u30f3\\u30c8\\u30a2\\u30d7\\u30ea\\u30b1\\u30fc\\u30b7\\u30e7\\u30f3\\u306e\\u4f5c\\u6210\\u3068\\u4fdd\\u5b58\\u304c\\u3053\\u308c\\u307e\\u3067\\u306b\\u306a\\u304f\\u7c21\\u5358\\u306b\\u306a\\u308a\\u307e\\u3057\\u305f!\"}]\n",
      "==================================\u001b[1m Ai Message \u001b[0m==================================\n",
      "\n",
      "The search results provide some helpful information about LangGraph:\n",
      "\n",
      "- LangGraph is a streaming-based technology that allows for efficient processing of large amounts of data, improving system response speed and efficiency.\n",
      "- It is used in modern data processing and AI applications where streaming data is important.\n",
      "- LangGraph provides powerful streaming capabilities that can be leveraged for various applications.\n",
      "\n",
      "Based on this, it seems LangGraph is a useful technology for handling and processing large, streaming data sets in an efficient and scalable way. It appears to have applications in areas like data processing, machine learning, and AI where there is a need to work with real-time or high-volume data.\n",
      "\n",
      "Let me know if you need any clarification or have additional questions about LangGraph!\n"
     ]
    }
   ],
   "source": [
    "config = {\"configurable\": {\"thread_id\": \"1\"}}\n",
    "events = graph.stream(\n",
    "    {\n",
    "        \"messages\": [\n",
    "            (\"user\", \"I'm learning LangGraph. Could you do some research on it for me?\")\n",
    "        ]\n",
    "    },\n",
    "    config,\n",
    "    stream_mode=\"values\",\n",
    ")\n",
    "for event in events:\n",
    "    if \"messages\" in event:\n",
    "        event[\"messages\"][-1].pretty_print()"
   ]
  },
  {
   "cell_type": "code",
   "execution_count": 9,
   "metadata": {},
   "outputs": [
    {
     "name": "stdout",
     "output_type": "stream",
     "text": [
      "================================\u001b[1m Human Message \u001b[0m=================================\n",
      "\n",
      "Ya that's helpful. Maybe I'll build an autonomous agent with it!\n",
      "==================================\u001b[1m Ai Message \u001b[0m==================================\n",
      "\n",
      "[{'text': \"That's great, building an autonomous agent with LangGraph sounds like an interesting project! Here are a few additional thoughts on how you could potentially use LangGraph for that:\", 'type': 'text'}, {'id': 'toolu_01CzaWsqbnd6Tx8rxsS47P9J', 'input': {'query': 'using langGraph for autonomous agents'}, 'name': 'tavily_search_results_json', 'type': 'tool_use'}]\n",
      "Tool Calls:\n",
      "  tavily_search_results_json (toolu_01CzaWsqbnd6Tx8rxsS47P9J)\n",
      " Call ID: toolu_01CzaWsqbnd6Tx8rxsS47P9J\n",
      "  Args:\n",
      "    query: using langGraph for autonomous agents\n",
      "=================================\u001b[1m Tool Message \u001b[0m=================================\n",
      "Name: tavily_search_results_json\n",
      "\n",
      "[{\"url\": \"https://vijaykumarkartha.medium.com/multiple-ai-agents-creating-multi-agent-workflows-using-langgraph-and-langchain-0587406ec4e6\", \"content\": \"Using LangGraph for Multi-Agent Workflows. LangGraph is well-suited for creating multi-agent workflows because it allows two or more agents to be connected as a graph. Each agent is an independent actor, and the connections between agents are represented by edges. ... AI agents are autonomous programs designed to perceive their environment and ...\"}, {\"url\": \"https://blog.langchain.dev/how-to-build-the-ultimate-ai-automation-with-multi-agent-collaboration/\", \"content\": \"This is the \\\"master\\\" agent that coordinates the other agents using LangGraph. This agent acts as the main LangGraph interface. GPT Researcher \\u2014 A specialized autonomous agent that conducts in depth research on a given topic. Editor \\u2014 Responsible for planning the research outline and structure.\"}]\n",
      "==================================\u001b[1m Ai Message \u001b[0m==================================\n",
      "\n",
      "The search results highlight a few key points:\n",
      "\n",
      "1. LangGraph is well-suited for building multi-agent systems, where autonomous agents can be connected and collaborate with each other.\n",
      "\n",
      "2. The graph-based nature of LangGraph allows for representing the relationships and interactions between different AI agents.\n",
      "\n",
      "3. Agents built with LangGraph can be designed to be specialized for different tasks, like research, planning, execution, etc. and work together as a cohesive system.\n",
      "\n",
      "4. The streaming and data processing capabilities of LangGraph could be leveraged to enable real-time coordination and information sharing between the autonomous agents.\n",
      "\n",
      "So in the context of building an autonomous agent system, LangGraph seems like a great fit. You could design a set of specialized agents that can communicate, share information, and collaborate to accomplish complex tasks in an efficient and scalable way. Let me know if you have any other questions as you start exploring this further!\n"
     ]
    }
   ],
   "source": [
    "events = graph.stream(\n",
    "    {\n",
    "        \"messages\": [\n",
    "            (\"user\", \"Ya that's helpful. Maybe I'll build an autonomous agent with it!\")\n",
    "        ]\n",
    "    },\n",
    "    config,\n",
    "    stream_mode=\"values\",\n",
    ")\n",
    "for event in events:\n",
    "    if \"messages\" in event:\n",
    "        event[\"messages\"][-1].pretty_print()"
   ]
  },
  {
   "cell_type": "code",
   "execution_count": 10,
   "metadata": {},
   "outputs": [
    {
     "name": "stdout",
     "output_type": "stream",
     "text": [
      "Num Messages:  8 Next:  ()\n",
      "--------------------------------------------------------------------------------\n",
      "Num Messages:  7 Next:  ('chatbot',)\n",
      "--------------------------------------------------------------------------------\n",
      "Num Messages:  6 Next:  ('tools',)\n",
      "--------------------------------------------------------------------------------\n",
      "Num Messages:  5 Next:  ('chatbot',)\n",
      "--------------------------------------------------------------------------------\n",
      "Num Messages:  4 Next:  ('__start__',)\n",
      "--------------------------------------------------------------------------------\n",
      "Num Messages:  4 Next:  ()\n",
      "--------------------------------------------------------------------------------\n",
      "Num Messages:  3 Next:  ('chatbot',)\n",
      "--------------------------------------------------------------------------------\n",
      "Num Messages:  2 Next:  ('tools',)\n",
      "--------------------------------------------------------------------------------\n",
      "Num Messages:  1 Next:  ('chatbot',)\n",
      "--------------------------------------------------------------------------------\n",
      "Num Messages:  0 Next:  ('__start__',)\n",
      "--------------------------------------------------------------------------------\n"
     ]
    }
   ],
   "source": [
    "to_replay = None\n",
    "for state in graph.get_state_history(config):\n",
    "    print(\"Num Messages: \", len(state.values[\"messages\"]), \"Next: \", state.next)\n",
    "    print(\"-\" * 80)\n",
    "    if len(state.values[\"messages\"]) == 6:\n",
    "        # We are somewhat arbitrarily selecting a specific state based on the number of chat messages in the state.\n",
    "        to_replay = state"
   ]
  },
  {
   "cell_type": "code",
   "execution_count": 11,
   "metadata": {},
   "outputs": [
    {
     "name": "stdout",
     "output_type": "stream",
     "text": [
      "('tools',)\n",
      "{'configurable': {'thread_id': '1', 'checkpoint_ns': '', 'checkpoint_id': '1ef695be-b000-669a-8006-817769699206'}}\n"
     ]
    }
   ],
   "source": [
    "print(to_replay.next)\n",
    "print(to_replay.config)"
   ]
  },
  {
   "cell_type": "code",
   "execution_count": 12,
   "metadata": {},
   "outputs": [
    {
     "name": "stdout",
     "output_type": "stream",
     "text": [
      "=================================\u001b[1m Tool Message \u001b[0m=================================\n",
      "Name: tavily_search_results_json\n",
      "\n",
      "[{\"url\": \"https://vijaykumarkartha.medium.com/multiple-ai-agents-creating-multi-agent-workflows-using-langgraph-and-langchain-0587406ec4e6\", \"content\": \"Using LangGraph for Multi-Agent Workflows. LangGraph is well-suited for creating multi-agent workflows because it allows two or more agents to be connected as a graph. Each agent is an independent actor, and the connections between agents are represented by edges. ... AI agents are autonomous programs designed to perceive their environment and ...\"}, {\"url\": \"https://blog.langchain.dev/how-to-build-the-ultimate-ai-automation-with-multi-agent-collaboration/\", \"content\": \"This is the \\\"master\\\" agent that coordinates the other agents using LangGraph. This agent acts as the main LangGraph interface. GPT Researcher \\u2014 A specialized autonomous agent that conducts in depth research on a given topic. Editor \\u2014 Responsible for planning the research outline and structure.\"}]\n",
      "==================================\u001b[1m Ai Message \u001b[0m==================================\n",
      "\n",
      "The search results indicate that LangGraph can be very useful for building autonomous agent systems:\n",
      "\n",
      "- LangGraph allows you to create multi-agent workflows, where each agent is an independent actor connected in a graph structure.\n",
      "- This allows you to build complex, collaborative systems with autonomous agents performing specialized tasks and coordinating with each other.\n",
      "- For an autonomous agent project, you could potentially have different agents responsible for things like research, planning, writing, editing, etc. The LangGraph would manage the connections and interactions between these agents.\n",
      "\n",
      "So LangGraph seems well-suited for developing sophisticated autonomous agent systems, where you can leverage the streaming and graph-based capabilities to enable efficient coordination and collaboration between multiple intelligent agents. This could be a really interesting and powerful approach for your project.\n",
      "\n",
      "Let me know if you have any other questions as you get started with building your autonomous agent using LangGraph!\n"
     ]
    }
   ],
   "source": [
    "# The `thread_ts` in the `to_replay.config` corresponds to a state we've persisted to our checkpointer.\n",
    "for event in graph.stream(None, to_replay.config, stream_mode=\"values\"):\n",
    "    if \"messages\" in event:\n",
    "        event[\"messages\"][-1].pretty_print()"
   ]
  }
 ],
 "metadata": {
  "kernelspec": {
   "display_name": "Lang-graph",
   "language": "python",
   "name": "python3"
  },
  "language_info": {
   "codemirror_mode": {
    "name": "ipython",
    "version": 3
   },
   "file_extension": ".py",
   "mimetype": "text/x-python",
   "name": "python",
   "nbconvert_exporter": "python",
   "pygments_lexer": "ipython3",
   "version": "3.12.5"
  }
 },
 "nbformat": 4,
 "nbformat_minor": 2
}
